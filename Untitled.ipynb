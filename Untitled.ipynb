{
 "cells": [
  {
   "cell_type": "markdown",
   "id": "30f6a7f4-b61f-4c00-bc72-702494a29ee6",
   "metadata": {},
   "source": [
    "# Table Creation"
   ]
  },
  {
   "cell_type": "code",
   "execution_count": 18,
   "id": "ad3498ef-e7a2-46cf-ad44-bf20d2b77df7",
   "metadata": {},
   "outputs": [],
   "source": [
    "import pandas as pd\n",
    "import numpy as np\n",
    "import seaborn as sn\n",
    "import sqlalchemy\n",
    "from sqlalchemy.ext.automap import automap_base\n",
    "from sqlalchemy.orm import Session\n",
    "from sqlalchemy import create_engine, inspect\n",
    "from sqlalchemy.ext.declarative import declarative_base\n",
    "Base = declarative_base()\n",
    "from sqlalchemy import Column, Integer, String, Float"
   ]
  },
  {
   "cell_type": "code",
   "execution_count": 19,
   "id": "266884d2-05f7-4ed3-b7ba-460877478a09",
   "metadata": {},
   "outputs": [],
   "source": [
    "engine = create_engine(\"sqlite:///skillset_database.db\")"
   ]
  },
  {
   "cell_type": "code",
   "execution_count": 20,
   "id": "5af477fe-a847-40c6-9d63-7404c563c991",
   "metadata": {},
   "outputs": [],
   "source": [
    "inspector = inspect(engine)"
   ]
  },
  {
   "cell_type": "code",
   "execution_count": 21,
   "id": "eaf712f7-d241-4e96-a043-8a983cbc9ccc",
   "metadata": {},
   "outputs": [
    {
     "data": {
      "text/plain": [
       "['skills_table', 'sqlite_sequence']"
      ]
     },
     "execution_count": 21,
     "metadata": {},
     "output_type": "execute_result"
    }
   ],
   "source": [
    "inspector.get_table_names()"
   ]
  },
  {
   "cell_type": "code",
   "execution_count": 22,
   "id": "404536ca-ff30-4e95-9013-d2f5438254ed",
   "metadata": {},
   "outputs": [
    {
     "name": "stdout",
     "output_type": "stream",
     "text": [
      "Record_ID INTEGER\n",
      "Organization TEXT\n",
      "Role TEXT\n",
      "Achievements TEXT\n",
      "Hours_Spent_onTask INTEGER\n",
      "Start_Date INTEGER\n",
      "End_Date INTEGER\n"
     ]
    }
   ],
   "source": [
    "columns = inspector.get_columns('skills_table')\n",
    "for i in columns:\n",
    "    print(i['name'], i['type'])"
   ]
  },
  {
   "cell_type": "code",
   "execution_count": null,
   "id": "90b34b0f-3ebc-4bd8-938b-b8ee8fa9b01f",
   "metadata": {},
   "outputs": [],
   "source": []
  }
 ],
 "metadata": {
  "kernelspec": {
   "display_name": "Python 3 (ipykernel)",
   "language": "python",
   "name": "python3"
  },
  "language_info": {
   "codemirror_mode": {
    "name": "ipython",
    "version": 3
   },
   "file_extension": ".py",
   "mimetype": "text/x-python",
   "name": "python",
   "nbconvert_exporter": "python",
   "pygments_lexer": "ipython3",
   "version": "3.8.12"
  }
 },
 "nbformat": 4,
 "nbformat_minor": 5
}
